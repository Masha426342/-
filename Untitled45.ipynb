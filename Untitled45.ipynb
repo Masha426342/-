{
  "nbformat": 4,
  "nbformat_minor": 0,
  "metadata": {
    "colab": {
      "provenance": [],
      "authorship_tag": "ABX9TyMmA+6QppL4SHTXYMS82xvs",
      "include_colab_link": true
    },
    "kernelspec": {
      "name": "python3",
      "display_name": "Python 3"
    },
    "language_info": {
      "name": "python"
    }
  },
  "cells": [
    {
      "cell_type": "markdown",
      "metadata": {
        "id": "view-in-github",
        "colab_type": "text"
      },
      "source": [
        "<a href=\"https://colab.research.google.com/github/Masha426342/-/blob/main/Untitled45.ipynb\" target=\"_parent\"><img src=\"https://colab.research.google.com/assets/colab-badge.svg\" alt=\"Open In Colab\"/></a>"
      ]
    },
    {
      "cell_type": "code",
      "execution_count": 5,
      "metadata": {
        "id": "Ds8J1hgax3Xr",
        "colab": {
          "base_uri": "https://localhost:8080/"
        },
        "outputId": "6aac56f6-98bc-4fb0-e5e9-67f6bec481d7"
      },
      "outputs": [
        {
          "output_type": "stream",
          "name": "stdout",
          "text": [
            "Оператор: Operator1,Стоимость за минуту: 0.1,Площадь покрытия: 1000,Качество: 1000000.0\n",
            "Оператор: Operator2,Стоимость за минуту: 0.2,Площадь покрытия: 2000,Качество: 700000.0\n"
          ]
        }
      ],
      "source": [
        "class MobileOperator:\n",
        "  def __init__(self, name, cost_one_minute, area):\n",
        "    self.name = name\n",
        "    self.cost_one_minute = cost_one_minute\n",
        "    self.area = area\n",
        "\n",
        "  def quality(self):\n",
        "    return 100 * self.area / self.cost_one_minute\n",
        "\n",
        "  def info(self):\n",
        "    print(f\"Оператор: {self.name},Стоимость за минуту: {self.cost_one_minute},Площадь покрытия: {self.area},Качество: {self.quality()}\")\n",
        "\n",
        "class NewMobileOperator(MobileOperator):\n",
        "  def __init__(self, name, cost_one_minute, area, pay):\n",
        "    super().__init__(name, cost_one_minute, area)\n",
        "    self.pay = pay\n",
        "\n",
        "  def quality(self):\n",
        "    q = super().quality()\n",
        "    if self.pay:\n",
        "      return 0.7 * q\n",
        "    else:\n",
        "      return 1.5 * q\n",
        "\n",
        "\n",
        "m = MobileOperator(\"Operator1\", 0.1, 1000)\n",
        "m.info()\n",
        "\n",
        "\n",
        "n = NewMobileOperator(\"Operator2\", 0.2, 2000, True)\n",
        "n.info()"
      ]
    }
  ]
}