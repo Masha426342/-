{
  "nbformat": 4,
  "nbformat_minor": 0,
  "metadata": {
    "colab": {
      "provenance": [],
      "authorship_tag": "ABX9TyP3JWfAWr6d12fGtK8RpZND",
      "include_colab_link": true
    },
    "kernelspec": {
      "name": "python3",
      "display_name": "Python 3"
    },
    "language_info": {
      "name": "python"
    }
  },
  "cells": [
    {
      "cell_type": "markdown",
      "metadata": {
        "id": "view-in-github",
        "colab_type": "text"
      },
      "source": [
        "<a href=\"https://colab.research.google.com/github/Masha426342/-/blob/main/%D0%B8%D0%BD%D0%B4%D0%B8%D0%B2%D0%B8%D0%B4%D1%83%D0%BB%D1%8C%D0%BD%D0%BE%D0%B5_%D0%B7%D0%B0%D0%B4%D0%B0%D0%BD%D0%B8%D0%B5.ipynb\" target=\"_parent\"><img src=\"https://colab.research.google.com/assets/colab-badge.svg\" alt=\"Open In Colab\"/></a>"
      ]
    },
    {
      "cell_type": "code",
      "execution_count": 14,
      "metadata": {
        "id": "gtUhE0lINttH",
        "colab": {
          "base_uri": "https://localhost:8080/"
        },
        "outputId": "69abf4af-d6d2-4d6e-ad53-baaed5fb116e"
      },
      "outputs": [
        {
          "output_type": "stream",
          "name": "stdout",
          "text": [
            "Альбом:K-12\n",
            "Группа:Melanie Martinez\n",
            "Список треков:\n",
            "Drama Club длится 4 минуты\n",
            "Wheels on the Bus длится 4 минуты\n",
            "Recess длится 4 минуты\n",
            "Длительность альбома: 12 минут \n",
            "Альбом:Scaled And Icy\n",
            "Группа:twenty one pilots\n",
            "Список треков:\n",
            "Good Day длится 3 минуты\n",
            "Shy Away длится 3 минуты\n",
            "No Chances длится 4 минуты\n",
            "Длительность альбома: 10 минут \n",
            "Process deleted.\n",
            "Process deleted.\n",
            "Process deleted.\n",
            "Process deleted.\n",
            "Process deleted.\n",
            "Process deleted.\n",
            "Process deleted.\n",
            "Process deleted.\n"
          ]
        }
      ],
      "source": [
        "if __name__ == '__main_':\n",
        "  print('start')\n",
        "class Album:\n",
        "  name_of_album = str()\n",
        "  group = str()\n",
        "  def __init__(self,name_of_album,group):\n",
        "    self.name_of_album = name_of_album\n",
        "    self.group = group\n",
        "    self.music=[]\n",
        "  def __del__(self):\n",
        "    print('Process deleted.')\n",
        "  def get_tracks(self):\n",
        "    return self.music\n",
        "  def add_track(self,track):\n",
        "    self.music.append(track)\n",
        "  def get_duration(self):\n",
        "    a=0\n",
        "    for i in self.music:\n",
        "      a = i.duration + a\n",
        "    return a\n",
        "class Track:\n",
        "  name_of_track = str()\n",
        "  duration = int()\n",
        "  def __init__(self,name_of_track,duration):\n",
        "    self.name_of_track = name_of_track\n",
        "    self.duration = duration\n",
        "  def __del__(self):\n",
        "    print('Process deleted.')\n",
        "  def show(self):\n",
        "    print(f\"{self.name_of_track} длится {self.duration} минуты\")\n",
        "t1= Track(\"Drama Club\", 4)\n",
        "t2 = Track(\"Wheels on the Bus\",4)\n",
        "t3 =Track(\"Recess\",4)\n",
        "m=Album(\"K-12\",\"Melanie Martinez\")\n",
        "m.add_track(t1)\n",
        "m.add_track(t2)\n",
        "m.add_track(t3)\n",
        "print(f\"Альбом:{m.name_of_album}\")\n",
        "print(f\"Группа:{m.group}\")\n",
        "print(\"Список треков:\")\n",
        "for l in m.get_tracks():\n",
        "     l.show()\n",
        "print(f\"Длительность альбома: {m.get_duration()} минут \")\n",
        "\n",
        "tr1= Track(\"Good Day\", 3)\n",
        "tr2 = Track(\"Shy Away\",3)\n",
        "tr3 =Track(\"No Chances\",4)\n",
        "n=Album(\"Scaled And Icy\",\"twenty one pilots\")\n",
        "n.add_track(tr1)\n",
        "n.add_track(tr2)\n",
        "n.add_track(tr3)\n",
        "print(f\"Альбом:{n.name_of_album}\")\n",
        "print(f\"Группа:{n.group}\")\n",
        "print(\"Список треков:\")\n",
        "for l in n.get_tracks():\n",
        "     l.show()\n",
        "print(f\"Длительность альбома: {n.get_duration()} минут \")"
      ]
    }
  ]
}