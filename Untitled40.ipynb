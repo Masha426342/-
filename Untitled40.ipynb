{
  "nbformat": 4,
  "nbformat_minor": 0,
  "metadata": {
    "colab": {
      "provenance": [],
      "authorship_tag": "ABX9TyNYRPsyPEXIw7tpKWU4PAUr",
      "include_colab_link": true
    },
    "kernelspec": {
      "name": "python3",
      "display_name": "Python 3"
    },
    "language_info": {
      "name": "python"
    }
  },
  "cells": [
    {
      "cell_type": "markdown",
      "metadata": {
        "id": "view-in-github",
        "colab_type": "text"
      },
      "source": [
        "<a href=\"https://colab.research.google.com/github/Masha426342/-/blob/main/Untitled40.ipynb\" target=\"_parent\"><img src=\"https://colab.research.google.com/assets/colab-badge.svg\" alt=\"Open In Colab\"/></a>"
      ]
    },
    {
      "cell_type": "markdown",
      "source": [
        "Каждый разрабатываемый класс должен, как правило, содержать\n",
        "следующие элементы: скрытые поля, конструкторы с параметрами и без\n",
        "параметров, методы, свойства. Методы и свойства должны обеспечивать\n",
        "непротиворечивый, полный, минимальный и удобный интерфейс класса. При\n",
        "возникновении ошибок должны выбрасываться исключения. В программе\n",
        "должна выполняться проверка всех разработанных элементов класса.\n",
        "Описать класс, реализующий шестнадцатеричный счетчик, который может \n",
        "увеличивать или уменьшать свое значение на единицу в заданном диапазоне. \n",
        "Предусмотреть инициализацию счетчика значениями по умолчанию и \n",
        "произвольными значениями. Счетчик имеет два метода: увеличения и \n",
        "уменьшения, — и свойство, позволяющее получить его текущее состояние. При \n",
        "выходе за границы диапазона выбрасываются исключения. \n",
        "Написать программу, демонстрирующую все разработанные элементы \n",
        "класса."
      ],
      "metadata": {
        "id": "670spAUikbRq"
      }
    },
    {
      "cell_type": "code",
      "execution_count": 7,
      "metadata": {
        "id": "4Lq5B2gR1Aiu",
        "colab": {
          "base_uri": "https://localhost:8080/"
        },
        "outputId": "90e45967-4aee-4cda-ed72-0688afa381fe"
      },
      "outputs": [
        {
          "output_type": "stream",
          "name": "stdout",
          "text": [
            "Введите минимальное число10\n",
            "Введите максимальное число20\n",
            "Введите число для счетчика15\n",
            "0xf\n",
            "0x10\n",
            "0xf\n",
            "0x10\n"
          ]
        }
      ],
      "source": [
        "class HexCounter:\n",
        "    def __init__(self, start, end, value):\n",
        "        if start >= end:\n",
        "          raise ValueError(\"Минимальное число не может быть больше максимального\")\n",
        "        elif value>end:\n",
        "          raise ValueError(\"Число для счетчика не может быть больше максимального\")\n",
        "        elif value<start:\n",
        "          raise ValueError(\"Число для счетчика не может быть меньше минимального\")\n",
        "        self._start = a\n",
        "        self._end = b\n",
        "        self._value = c\n",
        "\n",
        "    def increment(self):\n",
        "        if self._value == self._end:\n",
        "          raise ValueError(\"Максимальное значение\")\n",
        "        self._value += 1\n",
        "\n",
        "    def decrement(self):\n",
        "        if self._value == self._start:\n",
        "          raise ValueError(\"Минимальное значение\")\n",
        "        self._value -= 1\n",
        "\n",
        "    @property\n",
        "    def value(self) -> str:\n",
        "      return hex(self._value)\n",
        "\n",
        "try:\n",
        "    a = int(input(\"Введите минимальное число\"))\n",
        "    b = int(input(\"Введите максимальное число\"))\n",
        "    c = int(input(\"Введите число для счетчика\"))\n",
        "    counter = HexCounter(a,b,c)\n",
        "    print(counter.value)  \n",
        "    counter.increment()\n",
        "    print(counter.value)  \n",
        "    counter.decrement()\n",
        "    print(counter.value)  \n",
        "    counter.increment()\n",
        "    print(counter.value)  \n",
        "    counter.increment()  \n",
        "except ValueError as Exception:\n",
        "    print(Exception)"
      ]
    }
  ]
}