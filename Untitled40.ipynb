{
  "nbformat": 4,
  "nbformat_minor": 0,
  "metadata": {
    "colab": {
      "provenance": [],
      "authorship_tag": "ABX9TyPXcA1FYJBmpwan+vP/4O4y",
      "include_colab_link": true
    },
    "kernelspec": {
      "name": "python3",
      "display_name": "Python 3"
    },
    "language_info": {
      "name": "python"
    }
  },
  "cells": [
    {
      "cell_type": "markdown",
      "metadata": {
        "id": "view-in-github",
        "colab_type": "text"
      },
      "source": [
        "<a href=\"https://colab.research.google.com/github/Masha426342/-/blob/main/Untitled40.ipynb\" target=\"_parent\"><img src=\"https://colab.research.google.com/assets/colab-badge.svg\" alt=\"Open In Colab\"/></a>"
      ]
    },
    {
      "cell_type": "markdown",
      "source": [
        "Каждый разрабатываемый класс должен, как правило, содержать\n",
        "следующие элементы: скрытые поля, конструкторы с параметрами и без\n",
        "параметров, методы, свойства. Методы и свойства должны обеспечивать\n",
        "непротиворечивый, полный, минимальный и удобный интерфейс класса. При\n",
        "возникновении ошибок должны выбрасываться исключения. В программе\n",
        "должна выполняться проверка всех разработанных элементов класса.\n",
        "Описать класс, реализующий шестнадцатеричный счетчик, который может \n",
        "увеличивать или уменьшать свое значение на единицу в заданном диапазоне. \n",
        "Предусмотреть инициализацию счетчика значениями по умолчанию и \n",
        "произвольными значениями. Счетчик имеет два метода: увеличения и \n",
        "уменьшения, — и свойство, позволяющее получить его текущее состояние. При \n",
        "выходе за границы диапазона выбрасываются исключения. \n",
        "Написать программу, демонстрирующую все разработанные элементы \n",
        "класса."
      ],
      "metadata": {
        "id": "670spAUikbRq"
      }
    },
    {
      "cell_type": "code",
      "execution_count": 6,
      "metadata": {
        "id": "4Lq5B2gR1Aiu",
        "colab": {
          "base_uri": "https://localhost:8080/"
        },
        "outputId": "c1e4fea5-9dd7-48fb-c2ce-7cdcfd87967c"
      },
      "outputs": [
        {
          "output_type": "stream",
          "name": "stdout",
          "text": [
            "0xa\n",
            "0xb\n",
            "0xa\n",
            "0xb\n"
          ]
        }
      ],
      "source": [
        "class HexCounter:\n",
        "    def __init__(self, start: int = 0, end: int = 0):\n",
        "        if start >= end:\n",
        "            raise ValueError(\"Число не может быть больше максимального\")\n",
        "        self._start = start\n",
        "        self._end = end\n",
        "        self._value = start\n",
        "\n",
        "    def increment(self):\n",
        "        if self._value == self._end:\n",
        "            raise ValueError(\"Максимальное значение\")\n",
        "        self._value += 1\n",
        "\n",
        "    def decrement(self):\n",
        "        if self._value == self._start:\n",
        "            raise ValueError(\"Минимальное значение\")\n",
        "        self._value -= 1\n",
        "\n",
        "    @property\n",
        "    def value(self) -> str:\n",
        "        return hex(self._value)\n",
        "\n",
        "try:\n",
        "    counter = HexCounter(10, 20)\n",
        "    print(counter.value)  \n",
        "    counter.increment()\n",
        "    print(counter.value)  \n",
        "    counter.decrement()\n",
        "    print(counter.value)  \n",
        "    counter.increment()\n",
        "    print(counter.value)  \n",
        "    counter.increment()  \n",
        "except ValueError as Exception:\n",
        "    print(Exception)"
      ]
    }
  ]
}