{
  "nbformat": 4,
  "nbformat_minor": 0,
  "metadata": {
    "colab": {
      "provenance": [],
      "authorship_tag": "ABX9TyNBN3VmrarwCPocfiAyV8/N",
      "include_colab_link": true
    },
    "kernelspec": {
      "name": "python3",
      "display_name": "Python 3"
    },
    "language_info": {
      "name": "python"
    }
  },
  "cells": [
    {
      "cell_type": "markdown",
      "metadata": {
        "id": "view-in-github",
        "colab_type": "text"
      },
      "source": [
        "<a href=\"https://colab.research.google.com/github/Masha426342/-/blob/main/Untitled31.ipynb\" target=\"_parent\"><img src=\"https://colab.research.google.com/assets/colab-badge.svg\" alt=\"Open In Colab\"/></a>"
      ]
    },
    {
      "cell_type": "code",
      "execution_count": null,
      "metadata": {
        "colab": {
          "base_uri": "https://localhost:8080/"
        },
        "id": "p6CV59_-LqVi",
        "outputId": "aad3d177-7163-4295-a1c5-a98d1c0b7333"
      },
      "outputs": [
        {
          "output_type": "stream",
          "name": "stdout",
          "text": [
            "введите первую оценку2\n",
            "введите вторую оценку3\n",
            "введите третью оценку4\n",
            "3.0\n"
          ]
        }
      ],
      "source": [
        "#1\n",
        "#без инициализации\n",
        "\n",
        "a=int(input(\"введите первую оценку\"))\n",
        "b=int(input(\"введите вторую оценку\"))\n",
        "c=int(input(\"введите третью оценку\"))\n",
        "class Student:\n",
        "  first_mark=0\n",
        "  second_mark=0\n",
        "  third_mark=0\n",
        "marks=Student()\n",
        "marks.first_mark=a\n",
        "marks.second_mark=b\n",
        "marks.third_mark=c\n",
        "def sred(a,b,c):\n",
        "  k=(a+b+c)/3\n",
        "  return k\n",
        "print(sred(marks.first_mark,marks.second_mark,marks.third_mark))"
      ]
    },
    {
      "cell_type": "code",
      "source": [
        "#с названием предмета\n",
        "a=input(\"введите первую оценку и название предмета\").split()\n",
        "b=input(\"введите вторую оценку и название предмета\").split()\n",
        "c=input(\"введите третью оценку и название предмета\").split()\n",
        "if a[1]==b[1] or c[1]==b[1] or c[1] == a[1]:\n",
        "  print('неверно введены предметы')\n",
        "else:\n",
        "  class Student:\n",
        "    first_mark=0\n",
        "    second_mark=0\n",
        "    third_mark=0\n",
        "  marks=Student()\n",
        "  marks.first_mark=int(a[0])\n",
        "  marks.second_mark=int(b[0])\n",
        "  marks.third_mark=int(c[0])\n",
        "  def sred(a,b,c):\n",
        "    k=(a+b+c)/3\n",
        "    return k\n",
        "  print(sred(marks.first_mark,marks.second_mark,marks.third_mark))"
      ],
      "metadata": {
        "colab": {
          "base_uri": "https://localhost:8080/"
        },
        "id": "4Mgx4u-B2jTb",
        "outputId": "f6b035a6-c598-4971-cdca-9f46e967b190"
      },
      "execution_count": 15,
      "outputs": [
        {
          "output_type": "stream",
          "name": "stdout",
          "text": [
            "введите первую оценку и название предмета1 Мат\n",
            "введите вторую оценку и название предмета2 рус\n",
            "введите третью оценку и название предмета3 лит\n",
            "2.0\n"
          ]
        }
      ]
    },
    {
      "cell_type": "code",
      "source": [
        "#с инициализацией\n",
        "a=int(input(\"введите первую оценку\"))\n",
        "b=int(input(\"введите вторую оценку\"))\n",
        "c=int(input(\"введите третью оценку\"))\n",
        "class Student:\n",
        "  __a = int()\n",
        "  __b = int()\n",
        "  __c = int()\n",
        "  def __init__(self, __a, __b, __c):\n",
        "    self.a = __a\n",
        "    self.b = __b\n",
        "    self.c = __c\n",
        "  def sred(self):\n",
        "    k=(self.a+self.b+self.c)/3\n",
        "    return k\n",
        "  def __del__(self):\n",
        "    print('Process deleted.')\n",
        "m = Student(a,b,c)\n",
        "print(f'Средний балл: {m.sred()}')"
      ],
      "metadata": {
        "colab": {
          "base_uri": "https://localhost:8080/"
        },
        "id": "gss5oGBkQUBs",
        "outputId": "a1784dbb-0384-4309-87a4-54e20a74ff55"
      },
      "execution_count": null,
      "outputs": [
        {
          "output_type": "stream",
          "name": "stdout",
          "text": [
            "введите первую оценку2\n",
            "введите вторую оценку3\n",
            "введите третью оценку4\n",
            "Средний балл: 3.0\n",
            "Process deleted.\n"
          ]
        }
      ]
    },
    {
      "cell_type": "code",
      "source": [
        "#2\n",
        "class Sotrudnik:\n",
        "  __a=int()#оклад\n",
        "  __b=int()#кол-во отработанных дней\n",
        "  def __init__(self, __a, __b):\n",
        "    self.a = __a\n",
        "    self.b = __b\n",
        "  def salary(self):\n",
        "    k=self.a*self.b\n",
        "    return k\n",
        "  def __del__(self):\n",
        "    print('Process deleted.')"
      ],
      "metadata": {
        "id": "4UyuX0d9AGaV"
      },
      "execution_count": null,
      "outputs": []
    },
    {
      "cell_type": "code",
      "source": [
        "try:\n",
        "  a=int(input(\"введите оклад\"))\n",
        "  b=int(input(\"введите кол-во отработанных дней\"))\n",
        "  m=Sotrudnik(a,b) \n",
        "  f=m.salary()\n",
        "  l=str(f)\n",
        "  file = open(\"111.txt\", 'w+', encoding='utf-8')\n",
        "  file.write(l)\n",
        "  file.close()\n",
        "  with open('111.txt', 'r') as filename:\n",
        "    for line in filename:\n",
        "      print(line)\n",
        "except FileNotFoundError:\n",
        "  print(\"ошибка чтения файла\")\n",
        "except:\n",
        "  print(\"ошибка при работе с файлом\")\n"
      ],
      "metadata": {
        "colab": {
          "base_uri": "https://localhost:8080/"
        },
        "id": "rDQazJThHgb_",
        "outputId": "067a8c6e-a2e8-41ff-db9d-32d5d0a905ec"
      },
      "execution_count": null,
      "outputs": [
        {
          "output_type": "stream",
          "name": "stdout",
          "text": [
            "введите оклад200\n",
            "введите кол-во отработанных дней5\n",
            "1000\n"
          ]
        }
      ]
    },
    {
      "cell_type": "code",
      "source": [
        "#3\n",
        "def prem(file):\n",
        "  file=open('111.txt','r')\n",
        "  x=int(file.readline())\n",
        "  file.close()\n",
        "  y=(x/100)\n",
        "  return y\n"
      ],
      "metadata": {
        "id": "TM3UHO4aWvZL"
      },
      "execution_count": null,
      "outputs": []
    },
    {
      "cell_type": "code",
      "source": [
        "prem(file)"
      ],
      "metadata": {
        "colab": {
          "base_uri": "https://localhost:8080/"
        },
        "id": "ePnMYzvlYpL5",
        "outputId": "01ca9196-8e34-4cea-ef7e-b91e23fa253c"
      },
      "execution_count": null,
      "outputs": [
        {
          "output_type": "execute_result",
          "data": {
            "text/plain": [
              "10.0"
            ]
          },
          "metadata": {},
          "execution_count": 52
        }
      ]
    },
    {
      "cell_type": "code",
      "source": [
        "#4\n",
        "def sum(n,file):\n",
        "  s=0\n",
        "  for x in n:\n",
        "    l=x/100\n",
        "    s=x+l+s\n",
        "  v=s/0.7\n",
        "  file = open(\"file.txt\", 'a+', encoding='utf-8')\n",
        "  file.write(f\"итого:{v}\")\n",
        "  file.close()\n",
        "try:\n",
        "  l=int(input('введите кол-во сотрудников'))\n",
        "  c=0\n",
        "  n=[]\n",
        "  while c<l:\n",
        "    c=c+1\n",
        "    a=int(input('введите кол-во отработанных дней'))\n",
        "    b=int(input('введите оклад'))\n",
        "    m=Sotrudnik(a,b)\n",
        "    n.append(m.salary())#получаем список зарплат\n",
        "    file = open(\"file.txt\", 'w+', encoding='utf-8')\n",
        "    k=[f\"оклад сотрудника {b} и отработал он {a} часов\"]\n",
        "    for i in k:#записываем в файл инф о сотрудниках\n",
        "      file.write(i)\n",
        "      file.write('\\n')\n",
        "  file.close()\n",
        "  sum(n,file)\n",
        "  with open('file.txt', 'r') as filename:\n",
        "    for line in filename:\n",
        "      print(line)\n",
        "except FileNotFoundError:\n",
        "  print(\"ошибка чтения файла\")\n",
        "except:\n",
        "  print(\"ошибка при работе с файлом\")"
      ],
      "metadata": {
        "id": "2M_doA8XasRe",
        "colab": {
          "base_uri": "https://localhost:8080/"
        },
        "outputId": "8da82ddd-48ff-4be7-a941-aff47b48503d"
      },
      "execution_count": null,
      "outputs": [
        {
          "output_type": "stream",
          "name": "stdout",
          "text": [
            "введите кол-во сотрудников2\n",
            "введите кол-во отработанных дней200\n",
            "введите оклад5\n",
            "Process deleted.\n",
            "введите кол-во отработанных дней200\n",
            "введите оклад5\n",
            "оклад сотрудника 5 и отработал он 200 часов\n",
            "\n",
            "итого:2885.714285714286\n",
            "Process deleted.\n"
          ]
        }
      ]
    },
    {
      "cell_type": "code",
      "source": [
        "#5\n",
        "a=int(input('введите 1 число'))\n",
        "b=int(input('введите 2 число'))\n",
        "class Test:\n",
        "  def __init__(self,a):\n",
        "    self.t = float(a)\n",
        "  def __truediv__(self, b):\n",
        "    return b/self.t\n",
        "  def __floordiv__(self,c):\n",
        "    return float(c//self.t)\n",
        "  def __mod__(self, z):\n",
        "    return float(z%self.t)\n",
        "m=Test(a)\n",
        "print(m/b)\n",
        "print(m//b)\n",
        "print(m%b)\n"
      ],
      "metadata": {
        "colab": {
          "base_uri": "https://localhost:8080/"
        },
        "id": "aY0THZ0twJZ8",
        "outputId": "ace1601c-f23b-44da-a787-c8e55206f14d"
      },
      "execution_count": 10,
      "outputs": [
        {
          "output_type": "stream",
          "name": "stdout",
          "text": [
            "введите 1 число7\n",
            "введите 2 число3\n",
            "0.42857142857142855\n",
            "0.0\n",
            "3.0\n"
          ]
        }
      ]
    }
  ]
}