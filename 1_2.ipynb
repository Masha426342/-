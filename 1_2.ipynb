{
  "nbformat": 4,
  "nbformat_minor": 0,
  "metadata": {
    "colab": {
      "provenance": [],
      "authorship_tag": "ABX9TyMJTzHC5uJdt/Jx+y4fSULT",
      "include_colab_link": true
    },
    "kernelspec": {
      "name": "python3",
      "display_name": "Python 3"
    },
    "language_info": {
      "name": "python"
    }
  },
  "cells": [
    {
      "cell_type": "markdown",
      "metadata": {
        "id": "view-in-github",
        "colab_type": "text"
      },
      "source": [
        "<a href=\"https://colab.research.google.com/github/Masha426342/-/blob/main/1_2.ipynb\" target=\"_parent\"><img src=\"https://colab.research.google.com/assets/colab-badge.svg\" alt=\"Open In Colab\"/></a>"
      ]
    },
    {
      "cell_type": "code",
      "execution_count": 2,
      "metadata": {
        "colab": {
          "base_uri": "https://localhost:8080/"
        },
        "id": "m4NruiN8EpQY",
        "outputId": "864e9cb8-b19b-4109-fff0-55e2649256ee"
      },
      "outputs": [
        {
          "output_type": "stream",
          "name": "stdout",
          "text": [
            "Johanna has 2 apples and Martin has 1 apples\n",
            "Johanna has 2 ideas and Martin has 2 ideas\n"
          ]
        }
      ],
      "source": [
        "class Person:\n",
        "  apples = 0\n",
        "  ideas = 0\n",
        "johanna = Person()\n",
        "johanna.apples = 1\n",
        "johanna.ideas = 1\n",
        "\n",
        "martin = Person()\n",
        "martin.apples = 2\n",
        "martin.ideas = 1\n",
        "def exchange_apples(you, me):\n",
        "  a = you.apples          \n",
        "  you.apples = me.apples     \n",
        "  me.apples = a\n",
        "  return you.apples, me.apples\n",
        "def exchange_ideas(you, me):\n",
        "  b=you.ideas+me.ideas\n",
        "  you.ideas = b\n",
        "  me.ideas = b\n",
        "  return you.ideas, me.ideas\n",
        "exchange_apples(johanna, martin)\n",
        "print(\"Johanna has {} apples and Martin has {} apples\".format(johanna.apples, martin.apples))\n",
        "exchange_ideas(johanna, martin)\n",
        "print(\"Johanna has {} ideas and Martin has {} ideas\".format(johanna.ideas, martin.ideas)) "
      ]
    },
    {
      "cell_type": "code",
      "source": [
        "class City:\n",
        " name = \"\"\n",
        " country = \"\"\n",
        " elevation = 0\n",
        " population = 0\n",
        "\n",
        "city1 = City()\n",
        "city1.name = \"Cusco\"\n",
        "city1.country = \"Peru\"\n",
        "city1.elevation = 3399\n",
        "city1.population = 358052\n",
        "\n",
        "city2 = City()\n",
        "city2.name = \"Sofia\"\n",
        "city2.country = \"Bulgaria\"\n",
        "city2.elevation = 2290\n",
        "city2.population = 1241675\n",
        "\n",
        "city3 = City()\n",
        "city3.name = \"Seoul\"\n",
        "city3.country = \"South Korea\"\n",
        "city3.elevation = 38\n",
        "city3.population = 9733509\n",
        "\n",
        "def max_elevation_city(min_population):\n",
        "  return_city = City()\n",
        "  if city1.population >= min_population:\n",
        "    return_city = city1\n",
        "  if city2.population >= min_population and city2.elevation > return_city.elevation:\n",
        "    return_city = city2\n",
        "  if city3.population >= min_population and city3.elevation > return_city.elevation:\n",
        "    return_city = city3\n",
        "  if return_city.name:\n",
        "    return \"{}, {}\".format(return_city.name, return_city.country)  # иначе будет следующий вывод: ('Sofia', 'Bulgaria')\n",
        "  else:\n",
        "    return \"\"\n",
        "print(max_elevation_city(100000)) \n",
        "print(max_elevation_city(1000000))\n",
        "print(max_elevation_city(10000000)) "
      ],
      "metadata": {
        "colab": {
          "base_uri": "https://localhost:8080/"
        },
        "id": "TAZ3fWZzuViB",
        "outputId": "0e24bca8-d40e-4e87-9105-740f24eeacf1"
      },
      "execution_count": 3,
      "outputs": [
        {
          "output_type": "stream",
          "name": "stdout",
          "text": [
            "Cusco, Peru\n",
            "Sofia, Bulgaria\n",
            "\n"
          ]
        }
      ]
    },
    {
      "cell_type": "code",
      "source": [
        "class Furniture:\n",
        "  color = \"\"\n",
        "  material = \"\"\n",
        "\n",
        "table = Furniture()\n",
        "table.color = \"коричневый\" \n",
        "table.material = \"дерево\" \n",
        "\n",
        "couch = Furniture()\n",
        "couch.color = \"красный\" \n",
        "couch.material = \"кожа\" \n",
        "\n",
        "def describe_furniture(piece):\n",
        "  return (\"Этот предмет мебели изготовлен из {} {}\".format(piece.color, piece.material))\n",
        "print(describe_furniture(table))\n",
        "print(describe_furniture(couch))\n"
      ],
      "metadata": {
        "colab": {
          "base_uri": "https://localhost:8080/"
        },
        "id": "bilAuJvXzJ3M",
        "outputId": "ba9dce3e-a64a-4be3-a588-aae128291906"
      },
      "execution_count": 5,
      "outputs": [
        {
          "output_type": "stream",
          "name": "stdout",
          "text": [
            "Этот предмет мебели изготовлен из коричневый дерево\n",
            "Этот предмет мебели изготовлен из красный кожа\n"
          ]
        }
      ]
    }
  ]
}