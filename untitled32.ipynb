{
  "nbformat": 4,
  "nbformat_minor": 0,
  "metadata": {
    "colab": {
      "provenance": [],
      "authorship_tag": "ABX9TyOJeF/58S7wl0jUwJw7Bydz",
      "include_colab_link": true
    },
    "kernelspec": {
      "name": "python3",
      "display_name": "Python 3"
    },
    "language_info": {
      "name": "python"
    }
  },
  "cells": [
    {
      "cell_type": "markdown",
      "metadata": {
        "id": "view-in-github",
        "colab_type": "text"
      },
      "source": [
        "<a href=\"https://colab.research.google.com/github/Masha426342/-/blob/main/untitled32.ipynb\" target=\"_parent\"><img src=\"https://colab.research.google.com/assets/colab-badge.svg\" alt=\"Open In Colab\"/></a>"
      ]
    },
    {
      "cell_type": "code",
      "execution_count": null,
      "metadata": {
        "id": "y3wtdal8e02w",
        "colab": {
          "base_uri": "https://localhost:8080/"
        },
        "outputId": "baa1ef9f-eed3-47a6-9284-341629f97cb2"
      },
      "outputs": [
        {
          "output_type": "stream",
          "name": "stdout",
          "text": [
            "введите первую оценку 5\n",
            " назвние первого предметарус\n",
            "введите вторую оценку4\n",
            "введите второй прдмет4\n",
            "введите третью оценку4\n",
            "введите третий предмет\n",
            "4.333333333333333\n"
          ]
        }
      ],
      "source": [
        "try:\n",
        "  a=int(input(\"введите первую оценку \"))\n",
        "  b=str(input(\" назвние первого предмета\"))\n",
        "  c=int(input(\"введите вторую оценку\"))\n",
        "  d=str(input(\"введите второй прдмет\"))\n",
        "  e=int(input(\"введите третью оценку\"))\n",
        "  f=str(input(\"введите третий предмет\"))\n",
        "  if b==d or d==f or f==b:\n",
        "    print('неверно введены предметы')\n",
        "  else:\n",
        "    class Student:\n",
        "      first_mark=0\n",
        "      second_mark=0\n",
        "      third_mark=0\n",
        "    marks=Student()\n",
        "    marks.first_mark=a\n",
        "    marks.second_mark=c\n",
        "    marks.third_mark=e\n",
        "    def sred(a,c,e):\n",
        "      k=(a+c+e)/3\n",
        "      return k\n",
        "    print(sred(marks.first_mark,marks.second_mark,marks.third_mark))\n",
        "except Exception:\n",
        "    print(' ошибка!')"
      ]
    }
  ]
}